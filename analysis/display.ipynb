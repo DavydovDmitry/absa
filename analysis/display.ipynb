{
 "cells": [
  {
   "cell_type": "code",
   "execution_count": 1,
   "metadata": {},
   "outputs": [],
   "source": [
    "import os\n",
    "import sys\n",
    "import logging\n",
    "import datetime\n",
    "\n",
    "module_path = os.path.abspath(os.path.join('..'))\n",
    "if module_path not in sys.path:\n",
    "    sys.path.append(module_path)\n",
    "\n",
    "from absa import checked_reviews_dump_path, raw_reviews_dump_path, log_path\n",
    "from absa.utils.logging import configure_logging\n",
    "from absa.utils.dump import load_dump\n",
    "from absa.preprocess.spell_check import spell_check\n",
    "\n",
    "    \n",
    "configure_logging()"
   ]
  },
  {
   "cell_type": "code",
   "execution_count": 2,
   "metadata": {},
   "outputs": [
    {
     "name": "stderr",
     "output_type": "stream",
     "text": [
      "INFO:root:Upload from dump: /home/dmitry/Projects/absa/dumps/data/reviews\n"
     ]
    }
   ],
   "source": [
    "appendix = ''\n",
    "reviews = load_dump(pathway=raw_reviews_dump_path + appendix)\n",
    "# reviwes = load_dump(pathway=checked_reviews_dump_path + appendix)"
   ]
  },
  {
   "cell_type": "code",
   "execution_count": 3,
   "metadata": {},
   "outputs": [
    {
     "name": "stdout",
     "output_type": "stream",
     "text": [
      "Добрый час суток. Меня зовут Влада! Я со своим молодым человеком и пару его друзей отмечали день рожденье буквально на днях в этом ресторане. \u001b[0m\u001b[5m\u001b[32mОбслуживание\u001b[0m хорошее нас встретил \u001b[0m\u001b[5m\u001b[32mметрдотель\u001b[0m и провёл до столика который отлично нам подашел. Он был в уютном \u001b[0m\u001b[5m\u001b[32mуголке\u001b[0m в конце главного зала, \u001b[0m\u001b[5m\u001b[32mприглушенный свет\u001b[0m это основная часть этого ресторана там нет дневного освещения это было большим плюсом для нашего дня рожденья! Просто мы пришли днем часиков в четыре, так что вечер приятно продлился…... На наш не большой банкетик мы заказали пару приятных \u001b[0m\u001b[5m\u001b[32mблюд\u001b[0m, я заказала себе \u001b[0m\u001b[5m\u001b[32mулитки\u001b[0m очень вкусно было и совсем недорого примерно 300 рублей помоему, мой молодой человек заказал \u001b[0m\u001b[5m\u001b[32mблюда из мяса на мангале\u001b[0m, которых у них полно, ему не угодишь обычно, а тут понравилось его друзья тоже заказали по порции разного \u001b[0m\u001b[5m\u001b[32mмяса на мангале\u001b[0m тоже очень понравились! Ближе к вечеру нас предупредили о том, что будет \u001b[0m\u001b[5m\u001b[32mживая музыка\u001b[0m, мы так обрадовались этому неожиданному сюрпризу у нас как раз подошло время для танцев, а тут сопровождает такой прекрасный \u001b[0m\u001b[5m\u001b[32mголос солистки\u001b[0m……!!! В общем мы остались безумно довольны проведённым вечером в этом \u001b[0m\u001b[5m\u001b[32mресторане\u001b[0m, так что всем советуем))\u001b[0m\n"
     ]
    }
   ],
   "source": [
    "for review in reviews[:1]:\n",
    "    review.display()"
   ]
  }
 ],
 "metadata": {
  "kernelspec": {
   "display_name": "Python 3",
   "language": "python",
   "name": "python3"
  },
  "language_info": {
   "codemirror_mode": {
    "name": "ipython",
    "version": 3
   },
   "file_extension": ".py",
   "mimetype": "text/x-python",
   "name": "python",
   "nbconvert_exporter": "python",
   "pygments_lexer": "ipython3",
   "version": "3.7.5"
  },
  "toc": {
   "base_numbering": 1,
   "nav_menu": {},
   "number_sections": true,
   "sideBar": true,
   "skip_h1_title": false,
   "title_cell": "Table of Contents",
   "title_sidebar": "Contents",
   "toc_cell": false,
   "toc_position": {},
   "toc_section_display": true,
   "toc_window_display": false
  }
 },
 "nbformat": 4,
 "nbformat_minor": 4
}
