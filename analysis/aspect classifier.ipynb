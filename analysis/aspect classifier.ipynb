{
 "cells": [
  {
   "cell_type": "code",
   "execution_count": 1,
   "metadata": {},
   "outputs": [],
   "source": [
    "import os\n",
    "import xml.etree.ElementTree as ET\n",
    "import logging\n",
    "import sys\n",
    "import warnings\n",
    "import copy\n",
    "from functools import reduce\n",
    "from typing import List\n",
    "\n",
    "import numpy as np\n",
    "import torch as th\n",
    "from sklearn.model_selection import KFold\n",
    "from tqdm import tqdm\n",
    "import matplotlib.pyplot as plt\n",
    "from matplotlib.ticker import MaxNLocator\n",
    "\n",
    "module_path = os.path.abspath(os.path.join('..'))\n",
    "if module_path not in sys.path:\n",
    "    sys.path.append(module_path)\n",
    "\n",
    "from absa import train_reviews_path, test_reviews_path, TEST_APPENDIX, word2vec_model_path, \\\n",
    "                parsed_reviews_dump_path, PROGRESSBAR_COLUMNS_NUM, images_path\n",
    "from absa.preprocess.spell_check import spell_check\n",
    "from absa.preprocess.dependency import dep_parse_reviews\n",
    "from absa.classification.sentence.aspect.classifier import AspectClassifier as SentenceAspectClassifier\n",
    "from absa.classification.opinion.aspect.classifier import AspectClassifier as OpinionAspectClassifier\n",
    "from absa.utils.embedding import Embeddings\n",
    "from absa.utils.dump import load_dump\n",
    "\n",
    "seed = 42\n",
    "np.random.seed(seed)\n",
    "th.manual_seed(seed)\n",
    "th.cuda.manual_seed(seed)\n",
    "logging.basicConfig(level=logging.INFO)"
   ]
  },
  {
   "cell_type": "code",
   "execution_count": 2,
   "metadata": {},
   "outputs": [],
   "source": [
    "vocabulary = Embeddings.vocabulary\n",
    "embeddings_matrix = Embeddings.embeddings_matrix"
   ]
  },
  {
   "cell_type": "markdown",
   "metadata": {},
   "source": [
    "# Prepare data"
   ]
  },
  {
   "cell_type": "code",
   "execution_count": 3,
   "metadata": {},
   "outputs": [
    {
     "name": "stderr",
     "output_type": "stream",
     "text": [
      "INFO:root:Upload from dump: /home/dmitry/Projects/absa/dumps/data/dep_parsed_sentence\n",
      "INFO:root:Upload from dump: /home/dmitry/Projects/absa/dumps/data/dep_parsed_sentence.test\n"
     ]
    }
   ],
   "source": [
    "train_texts = load_dump(pathway=parsed_reviews_dump_path)\n",
    "test_texts = load_dump(pathway=parsed_reviews_dump_path + TEST_APPENDIX)"
   ]
  },
  {
   "cell_type": "markdown",
   "metadata": {},
   "source": [
    "### display"
   ]
  },
  {
   "cell_type": "code",
   "execution_count": 4,
   "metadata": {},
   "outputs": [],
   "source": [
    "SCORE_NAME = 'F1'\n",
    "PARAMETER_DECIMAL_LEN = 5\n",
    "SCORE_DECIMAL_LEN = 3\n",
    "\n",
    "\n",
    "def display_score(parameter_values: List,\n",
    "                  train_values: np.array,\n",
    "                  val_values: np.array,\n",
    "                  parameter_name='Epoch',\n",
    "                  score_name=SCORE_NAME) -> float:\n",
    "\n",
    "    max_param, max_acc = [(parameter_values[index], val)\n",
    "                          for index, val in enumerate(val_values) if val == max(val_values)][0]\n",
    "\n",
    "    plt.figure(figsize=(10, 10))\n",
    "    plt.grid(True, alpha=0.3)\n",
    "    plt.xlim(left=min(parameter_values), right=max(parameter_values))\n",
    "\n",
    "    # train\n",
    "    plt.plot(parameter_values, train_values, color='blue')\n",
    "    # validation\n",
    "    plt.plot(parameter_values,\n",
    "             val_values,\n",
    "             color='#EE6B24')\n",
    "\n",
    "    ax = plt.gca()\n",
    "    ax.xaxis.set_major_locator(MaxNLocator(integer=True))\n",
    "    plt.title(f'Dependence of {score_name} from {parameter_name}')\n",
    "    plt.xlabel(f'{parameter_name}')\n",
    "    plt.ylabel(score_name.capitalize())\n",
    "    if isinstance(max_param, (int, )):\n",
    "        plt.legend([\n",
    "            f'Maximal {score_name}={max_acc:.{SCORE_DECIMAL_LEN}} when {parameter_name}={max_param}'\n",
    "        ])\n",
    "    else:\n",
    "        plt.legend([\n",
    "            f'Maximal {score_name}={max_acc:.{SCORE_DECIMAL_LEN}}' +\n",
    "            f' when {parameter_name}={max_param:.{PARAMETER_DECIMAL_LEN}f}'\n",
    "        ])\n",
    "    plt.legend(['Train', 'Validation'])"
   ]
  },
  {
   "cell_type": "code",
   "execution_count": 5,
   "metadata": {},
   "outputs": [],
   "source": [
    "splits_number = 5\n",
    "kf = KFold(n_splits=splits_number)"
   ]
  },
  {
   "cell_type": "markdown",
   "metadata": {},
   "source": [
    "# Sentence Aspect Classification"
   ]
  },
  {
   "cell_type": "markdown",
   "metadata": {},
   "source": [
    "### Optimal epoch and threshold"
   ]
  },
  {
   "cell_type": "code",
   "execution_count": 6,
   "metadata": {},
   "outputs": [],
   "source": [
    "num_epoch = 100"
   ]
  },
  {
   "cell_type": "code",
   "execution_count": 9,
   "metadata": {},
   "outputs": [
    {
     "name": "stdout",
     "output_type": "stream",
     "text": [
      "100%|█████████████████████████████████████████████████████████████| 100/100 [00:58<00:00,  1.71it/s]\n",
      "100%|█████████████████████████████████████████████████████████████| 100/100 [00:57<00:00,  1.74it/s]\n",
      "100%|█████████████████████████████████████████████████████████████| 100/100 [00:58<00:00,  1.70it/s]\n",
      "100%|█████████████████████████████████████████████████████████████| 100/100 [00:56<00:00,  1.76it/s]\n",
      "100%|█████████████████████████████████████████████████████████████| 100/100 [00:57<00:00,  1.74it/s]\n"
     ]
    }
   ],
   "source": [
    "sentence_train_f1_history = np.zeros(shape=(num_epoch,))\n",
    "sentence_val_f1_history = np.zeros(shape=(num_epoch,))\n",
    "threshold = None\n",
    "\n",
    "for train_index, val_index in kf.split(train_texts):\n",
    "    classifier = SentenceAspectClassifier(vocabulary=vocabulary, emb_matrix=embeddings_matrix)\n",
    "    t, v = classifier.fit(\n",
    "        train_texts=[train_texts[x] for x in train_index], \n",
    "        val_texts=[train_texts[x] for x in val_index],\n",
    "        num_epoch=num_epoch)\n",
    "    sentence_train_f1_history += t\n",
    "    sentence_val_f1_history += v\n",
    "    if threshold is not None:\n",
    "        threshold += classifier.threshold\n",
    "    else:\n",
    "        threshold = classifier.threshold\n",
    "sentence_train_f1_history /= splits_number\n",
    "sentence_val_f1_history /= splits_number\n",
    "threshold /= splits_number"
   ]
  },
  {
   "cell_type": "code",
   "execution_count": 10,
   "metadata": {},
   "outputs": [
    {
     "name": "stdout",
     "output_type": "stream",
     "text": [
      "Stored 'sentence_train_f1_history' (ndarray)\n",
      "Stored 'sentence_val_f1_history' (ndarray)\n",
      "Stored 'threshold' (ndarray)\n"
     ]
    }
   ],
   "source": [
    "%store sentence_train_f1_history sentence_val_f1_history threshold"
   ]
  },
  {
   "cell_type": "code",
   "execution_count": 11,
   "metadata": {},
   "outputs": [],
   "source": [
    "%store -r"
   ]
  },
  {
   "cell_type": "code",
   "execution_count": 12,
   "metadata": {},
   "outputs": [
    {
     "data": {
      "image/png": "[encoded data removed]",
      "text/plain": [
       "<Figure size 720x720 with 1 Axes>"
      ]
     },
     "metadata": {
      "needs_background": "light"
     },
     "output_type": "display_data"
    }
   ],
   "source": [
    "display_score(parameter_values=[x for x in range(num_epoch)],\n",
    "              train_values=sentence_train_f1_history,\n",
    "              val_values=sentence_val_f1_history,\n",
    "              score_name='F1 score')\n",
    "plt.savefig(os.path.join(images_path, 'sentence_level_aspect_classifier_f1_vs_epoch.pdf'))"
   ]
  },
  {
   "cell_type": "markdown",
   "metadata": {},
   "source": [
    "### Fit"
   ]
  },
  {
   "cell_type": "code",
   "execution_count": 13,
   "metadata": {},
   "outputs": [
    {
     "name": "stdout",
     "output_type": "stream",
     "text": [
      "100%|███████████████████████████████████████████████████████████████| 50/50 [00:33<00:00,  1.51it/s]\n"
     ]
    }
   ],
   "source": [
    "classifier = SentenceAspectClassifier(vocabulary=vocabulary,\n",
    "                                      emb_matrix=embeddings_matrix)\n",
    "_ = classifier.fit(train_texts=train_texts,\n",
    "                   init_threshold=threshold,\n",
    "                   fixed_threshold=True)"
   ]
  },
  {
   "cell_type": "markdown",
   "metadata": {},
   "source": [
    "### Predict"
   ]
  },
  {
   "cell_type": "code",
   "execution_count": 14,
   "metadata": {},
   "outputs": [
    {
     "data": {
      "text/plain": [
       "Score(precision=0.75170; recall=0.73460; f1=0.74305)"
      ]
     },
     "execution_count": 14,
     "metadata": {},
     "output_type": "execute_result"
    }
   ],
   "source": [
    "test_texts_pred = copy.deepcopy(test_texts)\n",
    "for text in test_texts_pred:\n",
    "    text.reset_opinions()\n",
    "\n",
    "test_texts_pred = classifier.predict(test_texts_pred)\n",
    "score = classifier.score(texts=test_texts, texts_pred=test_texts_pred)\n",
    "score"
   ]
  },
  {
   "cell_type": "markdown",
   "metadata": {},
   "source": [
    "# Opinion Aspect Classification"
   ]
  },
  {
   "cell_type": "markdown",
   "metadata": {},
   "source": [
    "### Optimal epoch"
   ]
  },
  {
   "cell_type": "code",
   "execution_count": 16,
   "metadata": {},
   "outputs": [
    {
     "name": "stdout",
     "output_type": "stream",
     "text": [
      "100%|█████████████████████████████████████████████████████████████| 100/100 [02:02<00:00,  1.22s/it]\n",
      "100%|█████████████████████████████████████████████████████████████| 100/100 [01:59<00:00,  1.19s/it]\n",
      "100%|█████████████████████████████████████████████████████████████| 100/100 [01:58<00:00,  1.18s/it]\n",
      "100%|█████████████████████████████████████████████████████████████| 100/100 [02:00<00:00,  1.20s/it]\n",
      "100%|█████████████████████████████████████████████████████████████| 100/100 [02:03<00:00,  1.24s/it]\n"
     ]
    }
   ],
   "source": [
    "num_epoch = 100\n",
    "opinion_train_f1_history = np.zeros(shape=(num_epoch), dtype=np.float)\n",
    "opinion_val_f1_history = np.zeros(shape=(num_epoch), dtype=np.float)\n",
    "\n",
    "for train_index, val_index in kf.split(train_texts):\n",
    "    classifier = OpinionAspectClassifier(vocabulary=vocabulary,\n",
    "                                         emb_matrix=embeddings_matrix)\n",
    "    t, v = classifier.fit(\n",
    "        train_texts=[train_texts[x] for x in train_index], \n",
    "        val_texts=[train_texts[x] for x in val_index],\n",
    "        num_epoch=num_epoch)\n",
    "    opinion_train_f1_history += t\n",
    "    opinion_val_f1_history += v\n",
    "opinion_train_f1_history /= splits_number\n",
    "opinion_val_f1_history /= splits_number"
   ]
  },
  {
   "cell_type": "code",
   "execution_count": 17,
   "metadata": {},
   "outputs": [
    {
     "name": "stdout",
     "output_type": "stream",
     "text": [
      "Stored 'opinion_train_f1_history' (ndarray)\n",
      "Stored 'opinion_val_f1_history' (ndarray)\n"
     ]
    }
   ],
   "source": [
    "%store opinion_train_f1_history opinion_val_f1_history"
   ]
  },
  {
   "cell_type": "code",
   "execution_count": 18,
   "metadata": {},
   "outputs": [],
   "source": [
    "%store -r"
   ]
  },
  {
   "cell_type": "code",
   "execution_count": 19,
   "metadata": {},
   "outputs": [
    {
     "data": {
      "image/png": "[encoded data removed]",
      "text/plain": [
       "<Figure size 720x720 with 1 Axes>"
      ]
     },
     "metadata": {
      "needs_background": "light"
     },
     "output_type": "display_data"
    }
   ],
   "source": [
    "display_score(parameter_values=[x for x in range(num_epoch)],\n",
    "              train_values=opinion_train_f1_history,\n",
    "              val_values=opinion_val_f1_history,\n",
    "              score_name='F1 score')\n",
    "plt.savefig(os.path.join(images_path, 'target_level_aspect_classifier_f1_vs_epoch.pdf'))"
   ]
  },
  {
   "cell_type": "markdown",
   "metadata": {},
   "source": [
    "### Fit"
   ]
  },
  {
   "cell_type": "code",
   "execution_count": 20,
   "metadata": {},
   "outputs": [
    {
     "name": "stdout",
     "output_type": "stream",
     "text": [
      "100%|███████████████████████████████████████████████████████████████| 50/50 [01:06<00:00,  1.34s/it]\n"
     ]
    }
   ],
   "source": [
    "classifier = OpinionAspectClassifier(vocabulary=vocabulary,\n",
    "                                     emb_matrix=embeddings_matrix)\n",
    "_ = classifier.fit(train_texts=train_texts)"
   ]
  },
  {
   "cell_type": "markdown",
   "metadata": {},
   "source": [
    "### Predict"
   ]
  },
  {
   "cell_type": "code",
   "execution_count": 21,
   "metadata": {},
   "outputs": [
    {
     "name": "stdout",
     "output_type": "stream",
     "text": [
      "(precision=0.57692; recall=0.50234; f1=0.53706)\n"
     ]
    }
   ],
   "source": [
    "test_texts_pred = classifier.predict(test_texts_pred)\n",
    "score = classifier.score(texts=test_texts, texts_pred=test_texts_pred)\n",
    "print(f'{score}')"
   ]
  }
 ],
 "metadata": {
  "kernelspec": {
   "display_name": "Python 3",
   "language": "python",
   "name": "python3"
  },
  "language_info": {
   "codemirror_mode": {
    "name": "ipython",
    "version": 3
   },
   "file_extension": ".py",
   "mimetype": "text/x-python",
   "name": "python",
   "nbconvert_exporter": "python",
   "pygments_lexer": "ipython3",
   "version": "3.7.5"
  },
  "toc": {
   "base_numbering": 1,
   "nav_menu": {},
   "number_sections": true,
   "sideBar": true,
   "skip_h1_title": false,
   "title_cell": "Table of Contents",
   "title_sidebar": "Contents",
   "toc_cell": false,
   "toc_position": {
    "height": "calc(100% - 180px)",
    "left": "10px",
    "top": "150px",
    "width": "414.653px"
   },
   "toc_section_display": true,
   "toc_window_display": true
  }
 },
 "nbformat": 4,
 "nbformat_minor": 4
}
