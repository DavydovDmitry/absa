{
 "cells": [
  {
   "cell_type": "code",
   "execution_count": 9,
   "metadata": {},
   "outputs": [],
   "source": [
    "import os\n",
    "import xml.etree.ElementTree as ET\n",
    "import logging\n",
    "import sys\n",
    "import warnings\n",
    "import copy\n",
    "from functools import reduce\n",
    "from typing import List\n",
    "\n",
    "import numpy as np\n",
    "import torch as th\n",
    "from sklearn.model_selection import KFold\n",
    "from tqdm import tqdm\n",
    "import matplotlib.pyplot as plt\n",
    "from matplotlib.ticker import MaxNLocator\n",
    "\n",
    "module_path = os.path.abspath(os.path.join('..'))\n",
    "if module_path not in sys.path:\n",
    "    sys.path.append(module_path)\n",
    "\n",
    "from absa import train_reviews_path, test_reviews_path, TEST_APPENDIX, word2vec_model_path, UNKNOWN_WORD, \\\n",
    "                parsed_reviews_dump_path, PROGRESSBAR_COLUMNS_NUM, images_path\n",
    "from absa.review import get_reviews, load_reviews, dump_reviews, reviews_dump_path\n",
    "from absa.preprocess.spell_check import spell_check, load_checked_reviews\n",
    "from absa.preprocess.dep_parse import parse_reviews, load_parsed_reviews, dump_parsed_reviews\n",
    "from absa.sentence.aspect.classifier import AspectClassifier as SentenceAspectClassifier\n",
    "from absa.target.aspect.classifier import AspectClassifier as TargetAspectClassifier\n",
    "from absa.utils.embedding import get_embeddings\n",
    "\n",
    "seed = 42\n",
    "np.random.seed(seed)\n",
    "th.manual_seed(seed)\n",
    "th.cuda.manual_seed(seed)\n",
    "logging.basicConfig(level=logging.INFO)"
   ]
  },
  {
   "cell_type": "code",
   "execution_count": 2,
   "metadata": {},
   "outputs": [
    {
     "name": "stderr",
     "output_type": "stream",
     "text": [
      "INFO:gensim.models.utils_any2vec:loading projection weights from /home/dmitry/Projects/absa/embeddings/tayga_upos_skipgram_300_2_2019/model.bin\n",
      "INFO:gensim.models.utils_any2vec:loaded (249565, 300) matrix from /home/dmitry/Projects/absa/embeddings/tayga_upos_skipgram_300_2_2019/model.bin\n",
      "INFO:root:Upload dependency trees from dump.\n",
      "INFO:root:Upload dependency trees from dump.\n"
     ]
    }
   ],
   "source": [
    "word2vec = get_embeddings()\n",
    "\n",
    "train_reviews = load_parsed_reviews(file_pathway=parsed_reviews_dump_path)\n",
    "train_sentences = [x for x in reduce(lambda x, y: x + y, train_reviews)]\n",
    "\n",
    "test_reviews = load_parsed_reviews(file_pathway=parsed_reviews_dump_path + TEST_APPENDIX)\n",
    "test_sentences = [x for x in reduce(lambda x, y: x + y, test_reviews)]"
   ]
  },
  {
   "cell_type": "markdown",
   "metadata": {},
   "source": [
    "### display"
   ]
  },
  {
   "cell_type": "code",
   "execution_count": 14,
   "metadata": {},
   "outputs": [],
   "source": [
    "SCORE_NAME = 'F1'\n",
    "PARAMETER_DECIMAL_LEN = 5\n",
    "SCORE_DECIMAL_LEN = 3\n",
    "\n",
    "\n",
    "def display_score(parameter_values: List,\n",
    "                  train_values: np.array,\n",
    "                  val_values: np.array,\n",
    "                  parameter_name='Epoch',\n",
    "                  score_name=SCORE_NAME) -> float:\n",
    "\n",
    "    max_param, max_acc = [(parameter_values[index], val)\n",
    "                          for index, val in enumerate(val_values) if val == max(val_values)][0]\n",
    "\n",
    "    plt.figure(figsize=(10, 10))\n",
    "    plt.grid(True, alpha=0.3)\n",
    "    plt.xlim(left=min(parameter_values), right=max(parameter_values))\n",
    "\n",
    "    # train\n",
    "    plt.plot(parameter_values, train_values, color='blue')\n",
    "    # validation\n",
    "    plt.plot(parameter_values,\n",
    "             val_values,\n",
    "             color='#EE6B24')\n",
    "\n",
    "    ax = plt.gca()\n",
    "    ax.xaxis.set_major_locator(MaxNLocator(integer=True))\n",
    "    plt.title(f'Dependence of {score_name} from {parameter_name}')\n",
    "    plt.xlabel(f'{parameter_name}')\n",
    "    plt.ylabel(score_name.capitalize())\n",
    "    if isinstance(max_param, (int, )):\n",
    "        plt.legend([\n",
    "            f'Maximal {score_name}={max_acc:.{SCORE_DECIMAL_LEN}} when {parameter_name}={max_param}'\n",
    "        ])\n",
    "    else:\n",
    "        plt.legend([\n",
    "            f'Maximal {score_name}={max_acc:.{SCORE_DECIMAL_LEN}}' +\n",
    "            f' when {parameter_name}={max_param:.{PARAMETER_DECIMAL_LEN}f}'\n",
    "        ])\n",
    "    plt.legend(['Train', 'Validation'])"
   ]
  },
  {
   "cell_type": "code",
   "execution_count": 4,
   "metadata": {},
   "outputs": [],
   "source": [
    "splits_number = 5\n",
    "kf = KFold(n_splits=splits_number)"
   ]
  },
  {
   "cell_type": "markdown",
   "metadata": {},
   "source": [
    "# Sentence Aspect Classification"
   ]
  },
  {
   "cell_type": "markdown",
   "metadata": {},
   "source": [
    "### Optimal epoch and threshold"
   ]
  },
  {
   "cell_type": "code",
   "execution_count": 7,
   "metadata": {},
   "outputs": [],
   "source": [
    "num_epoch = 100"
   ]
  },
  {
   "cell_type": "code",
   "execution_count": 5,
   "metadata": {},
   "outputs": [
    {
     "name": "stdout",
     "output_type": "stream",
     "text": [
      "100%|█████████████████████████████████████████████████████████████| 100/100 [01:00<00:00,  1.66it/s]\n",
      "100%|█████████████████████████████████████████████████████████████| 100/100 [00:56<00:00,  1.76it/s]\n",
      "100%|█████████████████████████████████████████████████████████████| 100/100 [00:57<00:00,  1.73it/s]\n",
      "100%|█████████████████████████████████████████████████████████████| 100/100 [00:57<00:00,  1.74it/s]\n",
      "100%|█████████████████████████████████████████████████████████████| 100/100 [00:57<00:00,  1.73it/s]\n"
     ]
    }
   ],
   "source": [
    "sentence_train_f1_history = np.zeros(shape=(num_epoch,))\n",
    "sentence_val_f1_history = np.zeros(shape=(num_epoch,))\n",
    "threshold = None\n",
    "\n",
    "for train_index, val_index in kf.split(train_sentences):\n",
    "    classifier = SentenceAspectClassifier(word2vec=word2vec)\n",
    "    t, v = classifier.fit(\n",
    "        train_sentences=[train_sentences[x] for x in train_index], \n",
    "        val_sentences=[train_sentences[x] for x in val_index],\n",
    "        num_epoch=num_epoch)\n",
    "    sentence_train_f1_history += t\n",
    "    sentence_val_f1_history += v\n",
    "    if threshold is not None:\n",
    "        threshold += classifier.threshold\n",
    "    else:\n",
    "        threshold = classifier.threshold\n",
    "sentence_train_f1_history /= splits_number\n",
    "sentence_val_f1_history /= splits_number\n",
    "threshold /= splits_number"
   ]
  },
  {
   "cell_type": "code",
   "execution_count": 6,
   "metadata": {},
   "outputs": [
    {
     "name": "stdout",
     "output_type": "stream",
     "text": [
      "Stored 'sentence_train_f1_history' (ndarray)\n",
      "Stored 'sentence_val_f1_history' (ndarray)\n",
      "Stored 'threshold' (ndarray)\n"
     ]
    }
   ],
   "source": [
    "%store sentence_train_f1_history sentence_val_f1_history threshold"
   ]
  },
  {
   "cell_type": "code",
   "execution_count": 18,
   "metadata": {},
   "outputs": [],
   "source": [
    "%store -r"
   ]
  },
  {
   "cell_type": "code",
   "execution_count": 19,
   "metadata": {},
   "outputs": [
    {
     "data": {
      "image/png": "[encoded data removed]",
      "text/plain": [
       "<Figure size 720x720 with 1 Axes>"
      ]
     },
     "metadata": {
      "needs_background": "light"
     },
     "output_type": "display_data"
    }
   ],
   "source": [
    "display_score(parameter_values=[x for x in range(num_epoch)],\n",
    "              train_values=sentence_train_f1_history,\n",
    "              val_values=sentence_val_f1_history,\n",
    "              score_name='F1 score')\n",
    "plt.savefig(os.path.join(images_path, 'sentence_level_aspect_classifier_f1_vs_epoch.pdf'))"
   ]
  },
  {
   "cell_type": "markdown",
   "metadata": {},
   "source": [
    "### Fit"
   ]
  },
  {
   "cell_type": "code",
   "execution_count": 9,
   "metadata": {},
   "outputs": [
    {
     "name": "stdout",
     "output_type": "stream",
     "text": [
      "100%|███████████████████████████████████████████████████████████████| 50/50 [00:32<00:00,  1.53it/s]\n"
     ]
    }
   ],
   "source": [
    "classifier = SentenceAspectClassifier(word2vec=word2vec)\n",
    "_ = classifier.fit(train_sentences=train_sentences,\n",
    "                   init_threshold=threshold,\n",
    "                   fixed_threshold=True)"
   ]
  },
  {
   "cell_type": "markdown",
   "metadata": {},
   "source": [
    "### Predict"
   ]
  },
  {
   "cell_type": "code",
   "execution_count": 10,
   "metadata": {},
   "outputs": [
    {
     "data": {
      "text/plain": [
       "Score(precision=0.7440585009140768, recall=0.7551020408163265, f1=0.7495395948434622)"
      ]
     },
     "execution_count": 10,
     "metadata": {},
     "output_type": "execute_result"
    }
   ],
   "source": [
    "test_sentences_pred = copy.deepcopy(test_sentences)\n",
    "for sentence in test_sentences_pred:\n",
    "    sentence.reset_targets()\n",
    "\n",
    "test_sentences_pred = classifier.predict(test_sentences_pred)\n",
    "classifier.score(sentences=test_sentences, \n",
    "                 sentences_pred=test_sentences_pred)"
   ]
  },
  {
   "cell_type": "markdown",
   "metadata": {},
   "source": [
    "# Target Aspect Classification"
   ]
  },
  {
   "cell_type": "markdown",
   "metadata": {},
   "source": [
    "### Optimal epoch"
   ]
  },
  {
   "cell_type": "code",
   "execution_count": 11,
   "metadata": {},
   "outputs": [
    {
     "name": "stdout",
     "output_type": "stream",
     "text": [
      "100%|█████████████████████████████████████████████████████████████| 100/100 [02:01<00:00,  1.21s/it]\n",
      "100%|█████████████████████████████████████████████████████████████| 100/100 [02:01<00:00,  1.21s/it]\n",
      "100%|█████████████████████████████████████████████████████████████| 100/100 [02:02<00:00,  1.23s/it]\n",
      "100%|█████████████████████████████████████████████████████████████| 100/100 [02:01<00:00,  1.21s/it]\n",
      "100%|█████████████████████████████████████████████████████████████| 100/100 [02:03<00:00,  1.24s/it]\n"
     ]
    }
   ],
   "source": [
    "num_epoch = 100\n",
    "target_train_f1_history = np.zeros(shape=(num_epoch), dtype=np.float)\n",
    "target_val_f1_history = np.zeros(shape=(num_epoch), dtype=np.float)\n",
    "\n",
    "for train_index, val_index in kf.split(train_sentences):\n",
    "    classifier = TargetAspectClassifier(word2vec=word2vec)\n",
    "    t, v = classifier.fit(\n",
    "        train_sentences=[train_sentences[x] for x in train_index], \n",
    "        val_sentences=[train_sentences[x] for x in val_index],\n",
    "        num_epoch=num_epoch)\n",
    "    target_train_f1_history += t\n",
    "    target_val_f1_history += v\n",
    "target_train_f1_history /= splits_number\n",
    "target_val_f1_history /= splits_number"
   ]
  },
  {
   "cell_type": "code",
   "execution_count": 12,
   "metadata": {},
   "outputs": [
    {
     "name": "stdout",
     "output_type": "stream",
     "text": [
      "Stored 'target_train_f1_history' (ndarray)\n",
      "Stored 'target_val_f1_history' (ndarray)\n"
     ]
    }
   ],
   "source": [
    "%store target_train_f1_history target_val_f1_history"
   ]
  },
  {
   "cell_type": "code",
   "execution_count": 16,
   "metadata": {},
   "outputs": [],
   "source": [
    "%store -r"
   ]
  },
  {
   "cell_type": "code",
   "execution_count": 20,
   "metadata": {},
   "outputs": [
    {
     "data": {
      "image/png": "[encoded data removed]",
      "text/plain": [
       "<Figure size 720x720 with 1 Axes>"
      ]
     },
     "metadata": {
      "needs_background": "light"
     },
     "output_type": "display_data"
    }
   ],
   "source": [
    "display_score(parameter_values=[x for x in range(num_epoch)],\n",
    "              train_values=target_train_f1_history,\n",
    "              val_values=target_val_f1_history,\n",
    "              score_name='F1 score')\n",
    "plt.savefig(os.path.join(images_path, 'target_level_aspect_classifier_f1_vs_epoch.pdf'))"
   ]
  },
  {
   "cell_type": "markdown",
   "metadata": {},
   "source": [
    "### Fit"
   ]
  },
  {
   "cell_type": "code",
   "execution_count": 15,
   "metadata": {},
   "outputs": [
    {
     "name": "stdout",
     "output_type": "stream",
     "text": [
      "100%|███████████████████████████████████████████████████████████████| 50/50 [01:12<00:00,  1.45s/it]\n"
     ]
    }
   ],
   "source": [
    "classifier = TargetAspectClassifier(word2vec=word2vec)\n",
    "_ = classifier.fit(train_sentences=train_sentences)"
   ]
  },
  {
   "cell_type": "markdown",
   "metadata": {},
   "source": [
    "### Predict"
   ]
  },
  {
   "cell_type": "code",
   "execution_count": 16,
   "metadata": {},
   "outputs": [
    {
     "data": {
      "text/plain": [
       "Score(precision=0.6030769230769231, recall=0.36824800375763267, f1=0.45727617381160685)"
      ]
     },
     "execution_count": 16,
     "metadata": {},
     "output_type": "execute_result"
    }
   ],
   "source": [
    "test_sentences_pred = classifier.predict(test_sentences_pred)\n",
    "classifier.score(sentences=test_sentences, sentences_pred=test_sentences_pred)"
   ]
  }
 ],
 "metadata": {
  "kernelspec": {
   "display_name": "Python 3",
   "language": "python",
   "name": "python3"
  },
  "language_info": {
   "codemirror_mode": {
    "name": "ipython",
    "version": 3
   },
   "file_extension": ".py",
   "mimetype": "text/x-python",
   "name": "python",
   "nbconvert_exporter": "python",
   "pygments_lexer": "ipython3",
   "version": "3.7.5"
  },
  "toc": {
   "base_numbering": 1,
   "nav_menu": {},
   "number_sections": true,
   "sideBar": true,
   "skip_h1_title": false,
   "title_cell": "Table of Contents",
   "title_sidebar": "Contents",
   "toc_cell": false,
   "toc_position": {
    "height": "calc(100% - 180px)",
    "left": "10px",
    "top": "150px",
    "width": "414.653px"
   },
   "toc_section_display": true,
   "toc_window_display": true
  }
 },
 "nbformat": 4,
 "nbformat_minor": 4
}
