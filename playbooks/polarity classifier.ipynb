{
 "cells": [
  {
   "cell_type": "code",
   "execution_count": 1,
   "metadata": {},
   "outputs": [],
   "source": [
    "import os\n",
    "import xml.etree.ElementTree as ET\n",
    "import logging\n",
    "import sys\n",
    "import time\n",
    "import copy\n",
    "import warnings\n",
    "from functools import reduce\n",
    "import datetime\n",
    "\n",
    "import stanfordnlp\n",
    "from gensim.models import KeyedVectors\n",
    "from gensim.test.utils import datapath\n",
    "import numpy as np\n",
    "import torch as th\n",
    "\n",
    "module_path = os.path.abspath(os.path.join('..'))\n",
    "if module_path not in sys.path:\n",
    "    sys.path.append(module_path)\n",
    "\n",
    "from src import train_reviews_path, test_reviews_path, TEST_APPENDIX, word2vec_model_path, UNKNOWN_WORD, parsed_reviews_dump_path\n",
    "from src.review import get_reviews, load_reviews, dump_reviews, reviews_dump_path\n",
    "from src.preprocess.spell_check import spell_check, load_checked_reviews\n",
    "from src.preprocess.dep_parse import parse_reviews, load_parsed_reviews, dump_parsed_reviews\n",
    "from src.polarity.classifier import PolarityClassifier\n",
    "from src.utils.embedding import get_embeddings\n",
    "\n",
    "seed = 42\n",
    "np.random.seed(seed)\n",
    "th.manual_seed(seed)\n",
    "th.cuda.manual_seed(seed)\n",
    "logging.basicConfig(level=logging.INFO)"
   ]
  },
  {
   "cell_type": "code",
   "execution_count": 2,
   "metadata": {},
   "outputs": [
    {
     "name": "stderr",
     "output_type": "stream",
     "text": [
      "INFO:gensim.models.utils_any2vec:loading projection weights from /home/dmitry/Projects/absa/RusVectores/tayga_upos_skipgram_300_2_2019/model.bin\n",
      "INFO:gensim.models.utils_any2vec:loaded (249565, 300) matrix from /home/dmitry/Projects/absa/RusVectores/tayga_upos_skipgram_300_2_2019/model.bin\n"
     ]
    }
   ],
   "source": [
    "word2vec = get_embeddings()"
   ]
  },
  {
   "cell_type": "code",
   "execution_count": 3,
   "metadata": {},
   "outputs": [
    {
     "name": "stderr",
     "output_type": "stream",
     "text": [
      "INFO:root:Upload dependency trees from dump.\n"
     ]
    }
   ],
   "source": [
    "# ___________________________Train_______________________________\n",
    "train_reviews = load_parsed_reviews(file_pathway=parsed_reviews_dump_path)\n",
    "train_sentences = [x for x in reduce(lambda x, y: x + y, train_reviews)]"
   ]
  },
  {
   "cell_type": "code",
   "execution_count": 4,
   "metadata": {},
   "outputs": [
    {
     "name": "stderr",
     "output_type": "stream",
     "text": [
      "INFO:root:Upload dependency trees from dump.\n"
     ]
    }
   ],
   "source": [
    "# ___________________________Test________________________________\n",
    "test_reviews = load_parsed_reviews(file_pathway=parsed_reviews_dump_path + TEST_APPENDIX)\n",
    "test_sentences = [x for x in reduce(lambda x, y: x + y, test_reviews)]"
   ]
  },
  {
   "cell_type": "code",
   "execution_count": null,
   "metadata": {},
   "outputs": [],
   "source": [
    "# preprocess_pipeline(word2vec=word2vec, is_train=True)\n",
    "# preprocess_pipeline(word2vec=word2vec, is_train=False)"
   ]
  },
  {
   "cell_type": "code",
   "execution_count": 5,
   "metadata": {},
   "outputs": [
    {
     "name": "stderr",
     "output_type": "stream",
     "text": [
      "/home/dmitry/.cache/pypoetry/virtualenvs/absa-pCvITjyt-py3.7/lib/python3.7/site-packages/torch/nn/modules/rnn.py:50: UserWarning: dropout option adds dropout after all but last recurrent layer, so non-zero dropout expects num_layers greater than 1, but got dropout=0.1 and num_layers=1\n",
      "  \"num_layers={}\".format(dropout, num_layers))\n",
      "INFO:root:Number of parameters: 148553\n",
      "INFO:root:---------------------------------------- Epoch 000 ----------------------------------------\n",
      "INFO:root:Elapsed time: 4.541 sec\n",
      "INFO:root:Train      loss: 0.71161| acc: 0.75896\n",
      "INFO:root:Validation loss: 0.02111| acc: 0.66905| f1_score: 0.26728\n",
      "INFO:root:---------------------------------------- Epoch 001 ----------------------------------------\n",
      "INFO:root:Elapsed time: 4.509 sec\n",
      "INFO:root:Train      loss: 0.63299| acc: 0.75896\n",
      "INFO:root:Validation loss: 0.01941| acc: 0.66905| f1_score: 0.26728\n",
      "INFO:root:---------------------------------------- Epoch 002 ----------------------------------------\n",
      "INFO:root:Elapsed time: 4.468 sec\n",
      "INFO:root:Train      loss: 0.60607| acc: 0.75921\n",
      "INFO:root:Validation loss: 0.01789| acc: 0.67363| f1_score: 0.28025\n",
      "INFO:root:---------------------------------------- Epoch 003 ----------------------------------------\n",
      "INFO:root:Elapsed time: 4.446 sec\n",
      "INFO:root:Train      loss: 0.57788| acc: 0.77315\n",
      "INFO:root:Validation loss: 0.01744| acc: 0.72409| f1_score: 0.40887\n",
      "INFO:root:---------------------------------------- Epoch 004 ----------------------------------------\n",
      "INFO:root:Elapsed time: 4.578 sec\n",
      "INFO:root:Train      loss: 0.56845| acc: 0.78511\n",
      "INFO:root:Validation loss: 0.01584| acc: 0.74238| f1_score: 0.45132\n"
     ]
    },
    {
     "data": {
      "text/plain": [
       "([0.7589623235887096,\n",
       "  0.7589623235887096,\n",
       "  0.7592064642137096,\n",
       "  0.7731461063508065,\n",
       "  0.7851089969758065],\n",
       " [0.6690548780487805,\n",
       "  0.6690548780487805,\n",
       "  0.6736280487804878,\n",
       "  0.7240853658536586,\n",
       "  0.7423780487804879])"
      ]
     },
     "execution_count": 5,
     "metadata": {},
     "output_type": "execute_result"
    },
    {
     "data": {
      "image/png": "[encoded data removed]",
      "text/plain": [
       "<Figure size 576x576 with 1 Axes>"
      ]
     },
     "metadata": {
      "needs_background": "light"
     },
     "output_type": "display_data"
    }
   ],
   "source": [
    "classifier = PolarityClassifier(word2vec=word2vec)\n",
    "train_hist, val_hist = classifier.fit(train_sentences, test_sentences)"
   ]
  },
  {
   "cell_type": "code",
   "execution_count": null,
   "metadata": {},
   "outputs": [],
   "source": []
  },
  {
   "cell_type": "code",
   "execution_count": null,
   "metadata": {},
   "outputs": [],
   "source": []
  },
  {
   "cell_type": "code",
   "execution_count": null,
   "metadata": {},
   "outputs": [],
   "source": []
  },
  {
   "cell_type": "code",
   "execution_count": null,
   "metadata": {},
   "outputs": [],
   "source": []
  },
  {
   "cell_type": "code",
   "execution_count": null,
   "metadata": {},
   "outputs": [],
   "source": []
  },
  {
   "cell_type": "code",
   "execution_count": 8,
   "metadata": {},
   "outputs": [],
   "source": [
    "test_sentences_pred = copy.deepcopy(test_sentences)\n",
    "test_sentences_pred = classifier.predict(test_sentences_pred)"
   ]
  },
  {
   "cell_type": "code",
   "execution_count": null,
   "metadata": {},
   "outputs": [],
   "source": [
    "for sentence in test_sentences_pred[:10]:\n",
    "    sentence.to_sentence().get_normalized().display()"
   ]
  },
  {
   "cell_type": "code",
   "execution_count": null,
   "metadata": {},
   "outputs": [],
   "source": [
    "for sentence in test_sentences[:10]:\n",
    "    sentence.to_sentence().get_normalized().display()"
   ]
  }
 ],
 "metadata": {
  "kernelspec": {
   "display_name": "Python 3",
   "language": "python",
   "name": "python3"
  },
  "language_info": {
   "codemirror_mode": {
    "name": "ipython",
    "version": 3
   },
   "file_extension": ".py",
   "mimetype": "text/x-python",
   "name": "python",
   "nbconvert_exporter": "python",
   "pygments_lexer": "ipython3",
   "version": "3.7.5"
  },
  "toc": {
   "base_numbering": 1,
   "nav_menu": {},
   "number_sections": true,
   "sideBar": true,
   "skip_h1_title": false,
   "title_cell": "Table of Contents",
   "title_sidebar": "Contents",
   "toc_cell": false,
   "toc_position": {},
   "toc_section_display": true,
   "toc_window_display": false
  }
 },
 "nbformat": 4,
 "nbformat_minor": 4
}
