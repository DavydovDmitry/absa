{
 "cells": [
  {
   "cell_type": "code",
   "execution_count": 11,
   "metadata": {},
   "outputs": [],
   "source": [
    "import os\n",
    "import xml.etree.ElementTree as ET\n",
    "import logging\n",
    "import sys\n",
    "import warnings\n",
    "import copy\n",
    "from functools import reduce\n",
    "from typing import List\n",
    "\n",
    "import numpy as np\n",
    "import torch as th\n",
    "from sklearn.model_selection import KFold\n",
    "from tqdm import tqdm\n",
    "import matplotlib.pyplot as plt\n",
    "from matplotlib.ticker import MaxNLocator\n",
    "\n",
    "module_path = os.path.abspath(os.path.join('..'))\n",
    "if module_path not in sys.path:\n",
    "    sys.path.append(module_path)\n",
    "\n",
    "from src import train_reviews_path, test_reviews_path, TEST_APPENDIX, word2vec_model_path, UNKNOWN_WORD, \\\n",
    "                parsed_reviews_dump_path, PROGRESSBAR_COLUMNS_NUM\n",
    "from src.review import get_reviews, load_reviews, dump_reviews, reviews_dump_path\n",
    "from src.preprocess.spell_check import spell_check, load_checked_reviews\n",
    "from src.preprocess.dep_parse import parse_reviews, load_parsed_reviews, dump_parsed_reviews\n",
    "from src.sentence.aspect.classifier import AspectClassifier as SentenceAspectClassifier\n",
    "from src.target.aspect.classifier import AspectClassifier as TargetAspectClassifier\n",
    "from src.utils.embedding import get_embeddings\n",
    "\n",
    "seed = 42\n",
    "np.random.seed(seed)\n",
    "th.manual_seed(seed)\n",
    "th.cuda.manual_seed(seed)\n",
    "logging.basicConfig(level=logging.INFO)"
   ]
  },
  {
   "cell_type": "code",
   "execution_count": 22,
   "metadata": {},
   "outputs": [
    {
     "name": "stderr",
     "output_type": "stream",
     "text": [
      "INFO:gensim.models.utils_any2vec:loading projection weights from /home/dmitry/Projects/absa/embeddings/tayga_upos_skipgram_300_2_2019/model.bin\n",
      "INFO:gensim.models.utils_any2vec:loaded (249565, 300) matrix from /home/dmitry/Projects/absa/embeddings/tayga_upos_skipgram_300_2_2019/model.bin\n",
      "INFO:root:Upload dependency trees from dump.\n",
      "INFO:root:Upload dependency trees from dump.\n"
     ]
    }
   ],
   "source": [
    "word2vec = get_embeddings()\n",
    "\n",
    "train_reviews = load_parsed_reviews(file_pathway=parsed_reviews_dump_path)\n",
    "train_sentences = [x for x in reduce(lambda x, y: x + y, train_reviews)]\n",
    "\n",
    "test_reviews = load_parsed_reviews(file_pathway=parsed_reviews_dump_path + TEST_APPENDIX)\n",
    "test_sentences = [x for x in reduce(lambda x, y: x + y, test_reviews)]"
   ]
  },
  {
   "cell_type": "markdown",
   "metadata": {},
   "source": [
    "# Sentence Aspect Classification"
   ]
  },
  {
   "cell_type": "markdown",
   "metadata": {},
   "source": [
    "### Train"
   ]
  },
  {
   "cell_type": "code",
   "execution_count": 23,
   "metadata": {},
   "outputs": [
    {
     "name": "stdout",
     "output_type": "stream",
     "text": [
      "100%|███████████████████████████████████████████████████████████████| 40/40 [00:29<00:00,  1.35it/s]\n"
     ]
    }
   ],
   "source": [
    "num_epoch = 40\n",
    "\n",
    "classifier = SentenceAspectClassifier(word2vec=word2vec)\n",
    "train_f1_history, val_f1_history = classifier.fit(train_sentences=train_sentences, \n",
    "                                                  val_sentences=test_sentences,\n",
    "                                                  num_epoch=num_epoch)"
   ]
  },
  {
   "cell_type": "code",
   "execution_count": 24,
   "metadata": {},
   "outputs": [
    {
     "data": {
      "image/png": "[encoded data removed]",
      "text/plain": [
       "<Figure size 720x720 with 1 Axes>"
      ]
     },
     "metadata": {
      "needs_background": "light"
     },
     "output_type": "display_data"
    }
   ],
   "source": [
    "SCORE_NAME = 'f1'\n",
    "PARAMETER_DECIMAL_LEN = 5\n",
    "SCORE_DECIMAL_LEN = 3\n",
    "\n",
    "\n",
    "def display_score(parameter_values: List,\n",
    "                  train_values: List[float],\n",
    "                  val_values: List[float],\n",
    "                  parameter_name='Epoch',\n",
    "                  score_name=SCORE_NAME) -> float:\n",
    "\n",
    "    max_param, max_acc = [(parameter_values[index], val)\n",
    "                          for index, val in enumerate(val_values) if val == max(val_values)][0]\n",
    "\n",
    "    plt.figure(figsize=(10, 10))\n",
    "    plt.grid(True, alpha=0.3)\n",
    "    plt.xlim(left=min(parameter_values), right=max(parameter_values))\n",
    "\n",
    "    # train\n",
    "    plt.plot(parameter_values, train_values, color='blue')\n",
    "    # validation\n",
    "    plt.plot(parameter_values,\n",
    "             val_values,\n",
    "             color='orange')\n",
    "\n",
    "    ax = plt.gca()\n",
    "    ax.xaxis.set_major_locator(MaxNLocator(integer=True))\n",
    "    plt.title(f'Dependence of {score_name} from {parameter_name}')\n",
    "    plt.xlabel(f'{parameter_name}')\n",
    "    plt.ylabel(score_name.capitalize())\n",
    "    if isinstance(max_param, (int, )):\n",
    "        plt.legend([\n",
    "            f'Maximal {score_name}={max_acc:.{SCORE_DECIMAL_LEN}} when {parameter_name}={max_param}'\n",
    "        ])\n",
    "    else:\n",
    "        plt.legend([\n",
    "            f'Maximal {score_name}={max_acc:.{SCORE_DECIMAL_LEN}}' +\n",
    "            f' when {parameter_name}={max_param:.{PARAMETER_DECIMAL_LEN}f}'\n",
    "        ])\n",
    "    plt.legend(['Train', 'Validation'])\n",
    "\n",
    "display_score(parameter_values=[x for x in range(num_epoch)],\n",
    "              train_values=train_f1_history,\n",
    "              val_values=val_f1_history)"
   ]
  },
  {
   "cell_type": "markdown",
   "metadata": {},
   "source": [
    "### Predict"
   ]
  },
  {
   "cell_type": "code",
   "execution_count": 25,
   "metadata": {},
   "outputs": [
    {
     "data": {
      "text/plain": [
       "Score(precision=0.7599206349206349, recall=0.7105751391465677, f1=0.7344199424736337)"
      ]
     },
     "execution_count": 25,
     "metadata": {},
     "output_type": "execute_result"
    }
   ],
   "source": [
    "test_sentences_pred = copy.deepcopy(test_sentences)\n",
    "for sentence in test_sentences_pred:\n",
    "    sentence.reset_targets()\n",
    "\n",
    "test_sentences_pred = classifier.predict(test_sentences_pred)\n",
    "classifier.score(sentences=test_sentences, sentences_pred=test_sentences_pred)"
   ]
  },
  {
   "cell_type": "markdown",
   "metadata": {},
   "source": [
    "# Target Aspect Classification"
   ]
  },
  {
   "cell_type": "markdown",
   "metadata": {},
   "source": [
    "### Train"
   ]
  },
  {
   "cell_type": "code",
   "execution_count": 26,
   "metadata": {},
   "outputs": [],
   "source": [
    "classifier = TargetAspectClassifier.load_model()"
   ]
  },
  {
   "cell_type": "code",
   "execution_count": 27,
   "metadata": {},
   "outputs": [
    {
     "name": "stderr",
     "output_type": "stream",
     "text": [
      "INFO:root:Number of trainable parameters: 110493\n",
      "INFO:root:---------------------------------------- Epoch 000 ----------------------------------------\n",
      "INFO:root:Elapsed time: 1.648 sec\n",
      "INFO:root:Train      loss: 0.60704| f1_score: 0.08985\n",
      "INFO:root:Validation loss: 0.29340| f1_score: 0.17396\n",
      "INFO:root:---------------------------------------- Epoch 001 ----------------------------------------\n",
      "INFO:root:Elapsed time: 1.456 sec\n",
      "INFO:root:Train      loss: 0.29546| f1_score: 0.20121\n",
      "INFO:root:Validation loss: 0.23074| f1_score: 0.22641\n",
      "INFO:root:---------------------------------------- Epoch 002 ----------------------------------------\n",
      "INFO:root:Elapsed time: 1.634 sec\n",
      "INFO:root:Train      loss: 0.25443| f1_score: 0.23146\n",
      "INFO:root:Validation loss: 0.21000| f1_score: 0.25425\n",
      "INFO:root:---------------------------------------- Epoch 003 ----------------------------------------\n",
      "INFO:root:Elapsed time: 1.636 sec\n",
      "INFO:root:Train      loss: 0.23762| f1_score: 0.24464\n",
      "INFO:root:Validation loss: 0.19788| f1_score: 0.27109\n",
      "INFO:root:---------------------------------------- Epoch 004 ----------------------------------------\n",
      "INFO:root:Elapsed time: 1.530 sec\n",
      "INFO:root:Train      loss: 0.22555| f1_score: 0.26438\n",
      "INFO:root:Validation loss: 0.19203| f1_score: 0.29886\n",
      "INFO:root:---------------------------------------- Epoch 005 ----------------------------------------\n",
      "INFO:root:Elapsed time: 1.580 sec\n",
      "INFO:root:Train      loss: 0.21863| f1_score: 0.28312\n",
      "INFO:root:Validation loss: 0.18818| f1_score: 0.30434\n",
      "INFO:root:---------------------------------------- Epoch 006 ----------------------------------------\n",
      "INFO:root:Elapsed time: 1.679 sec\n",
      "INFO:root:Train      loss: 0.21016| f1_score: 0.29087\n",
      "INFO:root:Validation loss: 0.18204| f1_score: 0.34015\n",
      "INFO:root:---------------------------------------- Epoch 007 ----------------------------------------\n",
      "INFO:root:Elapsed time: 1.648 sec\n",
      "INFO:root:Train      loss: 0.20327| f1_score: 0.31644\n",
      "INFO:root:Validation loss: 0.18114| f1_score: 0.35366\n",
      "INFO:root:---------------------------------------- Epoch 008 ----------------------------------------\n",
      "INFO:root:Elapsed time: 1.666 sec\n",
      "INFO:root:Train      loss: 0.20015| f1_score: 0.32283\n",
      "INFO:root:Validation loss: 0.17925| f1_score: 0.36888\n",
      "INFO:root:---------------------------------------- Epoch 009 ----------------------------------------\n",
      "INFO:root:Elapsed time: 1.538 sec\n",
      "INFO:root:Train      loss: 0.19337| f1_score: 0.36368\n",
      "INFO:root:Validation loss: 0.17683| f1_score: 0.39312\n",
      "INFO:root:---------------------------------------- Epoch 010 ----------------------------------------\n",
      "INFO:root:Elapsed time: 1.546 sec\n",
      "INFO:root:Train      loss: 0.18962| f1_score: 0.36747\n",
      "INFO:root:Validation loss: 0.17587| f1_score: 0.42330\n",
      "INFO:root:---------------------------------------- Epoch 011 ----------------------------------------\n",
      "INFO:root:Elapsed time: 1.679 sec\n",
      "INFO:root:Train      loss: 0.18751| f1_score: 0.36953\n",
      "INFO:root:Validation loss: 0.17366| f1_score: 0.43530\n",
      "INFO:root:---------------------------------------- Epoch 012 ----------------------------------------\n",
      "INFO:root:Elapsed time: 1.611 sec\n",
      "INFO:root:Train      loss: 0.18154| f1_score: 0.38624\n",
      "INFO:root:Validation loss: 0.17103| f1_score: 0.44353\n",
      "INFO:root:---------------------------------------- Epoch 013 ----------------------------------------\n",
      "INFO:root:Elapsed time: 1.616 sec\n",
      "INFO:root:Train      loss: 0.17953| f1_score: 0.39951\n",
      "INFO:root:Validation loss: 0.17243| f1_score: 0.43963\n",
      "INFO:root:---------------------------------------- Epoch 014 ----------------------------------------\n",
      "INFO:root:Elapsed time: 1.543 sec\n",
      "INFO:root:Train      loss: 0.17729| f1_score: 0.41035\n",
      "INFO:root:Validation loss: 0.17313| f1_score: 0.44331\n",
      "INFO:root:---------------------------------------- Epoch 015 ----------------------------------------\n",
      "INFO:root:Elapsed time: 1.622 sec\n",
      "INFO:root:Train      loss: 0.17469| f1_score: 0.43850\n",
      "INFO:root:Validation loss: 0.17348| f1_score: 0.46236\n",
      "INFO:root:---------------------------------------- Epoch 016 ----------------------------------------\n",
      "INFO:root:Elapsed time: 1.624 sec\n",
      "INFO:root:Train      loss: 0.17377| f1_score: 0.41940\n",
      "INFO:root:Validation loss: 0.17163| f1_score: 0.46762\n",
      "INFO:root:---------------------------------------- Epoch 017 ----------------------------------------\n",
      "INFO:root:Elapsed time: 1.286 sec\n",
      "INFO:root:Train      loss: 0.16817| f1_score: 0.44146\n",
      "INFO:root:Validation loss: 0.17380| f1_score: 0.45774\n",
      "INFO:root:---------------------------------------- Epoch 018 ----------------------------------------\n",
      "INFO:root:Elapsed time: 1.297 sec\n",
      "INFO:root:Train      loss: 0.17018| f1_score: 0.43166\n",
      "INFO:root:Validation loss: 0.17310| f1_score: 0.47290\n",
      "INFO:root:---------------------------------------- Epoch 019 ----------------------------------------\n",
      "INFO:root:Elapsed time: 1.636 sec\n",
      "INFO:root:Train      loss: 0.16328| f1_score: 0.44573\n",
      "INFO:root:Validation loss: 0.17091| f1_score: 0.47426\n",
      "INFO:root:---------------------------------------- Epoch 020 ----------------------------------------\n",
      "INFO:root:Elapsed time: 1.611 sec\n",
      "INFO:root:Train      loss: 0.16298| f1_score: 0.44805\n",
      "INFO:root:Validation loss: 0.17301| f1_score: 0.48727\n",
      "INFO:root:---------------------------------------- Epoch 021 ----------------------------------------\n",
      "INFO:root:Elapsed time: 1.617 sec\n",
      "INFO:root:Train      loss: 0.16072| f1_score: 0.46648\n",
      "INFO:root:Validation loss: 0.17298| f1_score: 0.46833\n",
      "INFO:root:---------------------------------------- Epoch 022 ----------------------------------------\n",
      "INFO:root:Elapsed time: 1.605 sec\n",
      "INFO:root:Train      loss: 0.15979| f1_score: 0.45973\n",
      "INFO:root:Validation loss: 0.17660| f1_score: 0.47989\n",
      "INFO:root:---------------------------------------- Epoch 023 ----------------------------------------\n",
      "INFO:root:Elapsed time: 1.635 sec\n",
      "INFO:root:Train      loss: 0.15718| f1_score: 0.47164\n",
      "INFO:root:Validation loss: 0.17516| f1_score: 0.47049\n",
      "INFO:root:---------------------------------------- Epoch 024 ----------------------------------------\n",
      "INFO:root:Elapsed time: 1.607 sec\n",
      "INFO:root:Train      loss: 0.15889| f1_score: 0.47400\n",
      "INFO:root:Validation loss: 0.17408| f1_score: 0.48345\n",
      "INFO:root:---------------------------------------- Epoch 025 ----------------------------------------\n",
      "INFO:root:Elapsed time: 1.499 sec\n",
      "INFO:root:Train      loss: 0.15810| f1_score: 0.45404\n",
      "INFO:root:Validation loss: 0.17520| f1_score: 0.48232\n",
      "INFO:root:---------------------------------------- Epoch 026 ----------------------------------------\n",
      "INFO:root:Elapsed time: 1.635 sec\n",
      "INFO:root:Train      loss: 0.15387| f1_score: 0.48583\n",
      "INFO:root:Validation loss: 0.17778| f1_score: 0.49036\n",
      "INFO:root:---------------------------------------- Epoch 027 ----------------------------------------\n",
      "INFO:root:Elapsed time: 1.614 sec\n",
      "INFO:root:Train      loss: 0.15438| f1_score: 0.47920\n",
      "INFO:root:Validation loss: 0.17669| f1_score: 0.48841\n",
      "INFO:root:---------------------------------------- Epoch 028 ----------------------------------------\n",
      "INFO:root:Elapsed time: 1.569 sec\n",
      "INFO:root:Train      loss: 0.15084| f1_score: 0.50420\n",
      "INFO:root:Validation loss: 0.17748| f1_score: 0.48204\n",
      "INFO:root:---------------------------------------- Epoch 029 ----------------------------------------\n",
      "INFO:root:Elapsed time: 1.646 sec\n",
      "INFO:root:Train      loss: 0.14792| f1_score: 0.49358\n",
      "INFO:root:Validation loss: 0.17774| f1_score: 0.48459\n",
      "INFO:root:---------------------------------------- Epoch 030 ----------------------------------------\n",
      "INFO:root:Elapsed time: 1.371 sec\n",
      "INFO:root:Train      loss: 0.14635| f1_score: 0.48326\n",
      "INFO:root:Validation loss: 0.17808| f1_score: 0.48257\n",
      "INFO:root:---------------------------------------- Epoch 031 ----------------------------------------\n",
      "INFO:root:Elapsed time: 1.616 sec\n",
      "INFO:root:Train      loss: 0.14634| f1_score: 0.49835\n",
      "INFO:root:Validation loss: 0.17836| f1_score: 0.47722\n",
      "INFO:root:---------------------------------------- Epoch 032 ----------------------------------------\n",
      "INFO:root:Elapsed time: 1.590 sec\n",
      "INFO:root:Train      loss: 0.14209| f1_score: 0.50593\n",
      "INFO:root:Validation loss: 0.17762| f1_score: 0.46731\n",
      "INFO:root:---------------------------------------- Epoch 033 ----------------------------------------\n"
     ]
    },
    {
     "name": "stderr",
     "output_type": "stream",
     "text": [
      "INFO:root:Elapsed time: 1.614 sec\n",
      "INFO:root:Train      loss: 0.14275| f1_score: 0.48900\n",
      "INFO:root:Validation loss: 0.17751| f1_score: 0.47563\n",
      "INFO:root:---------------------------------------- Epoch 034 ----------------------------------------\n",
      "INFO:root:Elapsed time: 1.632 sec\n",
      "INFO:root:Train      loss: 0.14485| f1_score: 0.50475\n",
      "INFO:root:Validation loss: 0.17758| f1_score: 0.47036\n",
      "INFO:root:---------------------------------------- Epoch 035 ----------------------------------------\n",
      "INFO:root:Elapsed time: 1.652 sec\n",
      "INFO:root:Train      loss: 0.14116| f1_score: 0.50788\n",
      "INFO:root:Validation loss: 0.18101| f1_score: 0.47952\n",
      "INFO:root:---------------------------------------- Epoch 036 ----------------------------------------\n",
      "INFO:root:Elapsed time: 1.627 sec\n",
      "INFO:root:Train      loss: 0.14203| f1_score: 0.50189\n",
      "INFO:root:Validation loss: 0.18155| f1_score: 0.46997\n",
      "INFO:root:---------------------------------------- Epoch 037 ----------------------------------------\n",
      "INFO:root:Elapsed time: 1.578 sec\n",
      "INFO:root:Train      loss: 0.14141| f1_score: 0.51341\n",
      "INFO:root:Validation loss: 0.17938| f1_score: 0.47809\n",
      "INFO:root:---------------------------------------- Epoch 038 ----------------------------------------\n",
      "INFO:root:Elapsed time: 1.269 sec\n",
      "INFO:root:Train      loss: 0.14090| f1_score: 0.51666\n",
      "INFO:root:Validation loss: 0.18200| f1_score: 0.48041\n",
      "INFO:root:---------------------------------------- Epoch 039 ----------------------------------------\n",
      "INFO:root:Elapsed time: 1.276 sec\n",
      "INFO:root:Train      loss: 0.13756| f1_score: 0.51616\n",
      "INFO:root:Validation loss: 0.18114| f1_score: 0.47163\n"
     ]
    }
   ],
   "source": [
    "num_epoch = 40\n",
    "\n",
    "classifier = TargetAspectClassifier(word2vec=word2vec)\n",
    "train_history, val_history = classifier.fit(train_sentences=train_sentences, \n",
    "                                            val_sentences=test_sentences,\n",
    "                                            num_epoch=num_epoch)"
   ]
  },
  {
   "cell_type": "code",
   "execution_count": 28,
   "metadata": {},
   "outputs": [
    {
     "data": {
      "image/png": "[encoded data removed]",
      "text/plain": [
       "<Figure size 720x720 with 1 Axes>"
      ]
     },
     "metadata": {
      "needs_background": "light"
     },
     "output_type": "display_data"
    }
   ],
   "source": [
    "display_score(parameter_values=[x for x in range(num_epoch)],\n",
    "              train_values=train_history,\n",
    "              val_values=val_history,\n",
    "              score_name='F1 score')"
   ]
  },
  {
   "cell_type": "markdown",
   "metadata": {},
   "source": [
    "### Predict"
   ]
  },
  {
   "cell_type": "code",
   "execution_count": 29,
   "metadata": {},
   "outputs": [
    {
     "data": {
      "text/plain": [
       "Score(precision=0.5738461538461539, recall=0.36090953072085147, f1=0.44312444312444316)"
      ]
     },
     "execution_count": 29,
     "metadata": {},
     "output_type": "execute_result"
    }
   ],
   "source": [
    "test_sentences_pred = classifier.predict(test_sentences_pred)\n",
    "classifier.score(sentences=test_sentences, sentences_pred=test_sentences_pred)"
   ]
  }
 ],
 "metadata": {
  "kernelspec": {
   "display_name": "Python 3",
   "language": "python",
   "name": "python3"
  },
  "language_info": {
   "codemirror_mode": {
    "name": "ipython",
    "version": 3
   },
   "file_extension": ".py",
   "mimetype": "text/x-python",
   "name": "python",
   "nbconvert_exporter": "python",
   "pygments_lexer": "ipython3",
   "version": "3.7.5"
  },
  "toc": {
   "base_numbering": 1,
   "nav_menu": {},
   "number_sections": true,
   "sideBar": true,
   "skip_h1_title": false,
   "title_cell": "Table of Contents",
   "title_sidebar": "Contents",
   "toc_cell": false,
   "toc_position": {},
   "toc_section_display": true,
   "toc_window_display": true
  }
 },
 "nbformat": 4,
 "nbformat_minor": 4
}
